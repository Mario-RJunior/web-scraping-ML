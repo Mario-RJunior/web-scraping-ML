{
  "nbformat": 4,
  "nbformat_minor": 0,
  "metadata": {
    "colab": {
      "name": "scraping-Mercado-Livre.ipynb",
      "provenance": [],
      "collapsed_sections": [],
      "authorship_tag": "ABX9TyN1GHlQFNil8d+DZJuExcga",
      "include_colab_link": true
    },
    "kernelspec": {
      "name": "python3",
      "display_name": "Python 3"
    }
  },
  "cells": [
    {
      "cell_type": "markdown",
      "metadata": {
        "id": "view-in-github",
        "colab_type": "text"
      },
      "source": [
        "<a href=\"https://colab.research.google.com/github/Mario-RJunior/web-scraping-ML/blob/master/scraping_Mercado_Livre.ipynb\" target=\"_parent\"><img src=\"https://colab.research.google.com/assets/colab-badge.svg\" alt=\"Open In Colab\"/></a>"
      ]
    },
    {
      "cell_type": "code",
      "metadata": {
        "id": "G8AzrBIq8dYL",
        "colab_type": "code",
        "colab": {}
      },
      "source": [
        "# Importando as bibliotecas\n",
        "from bs4 import BeautifulSoup\n",
        "import requests\n",
        "import pandas as pd\n",
        "from time import sleep\n",
        "import re\n",
        "import numpy as np"
      ],
      "execution_count": 1,
      "outputs": []
    },
    {
      "cell_type": "code",
      "metadata": {
        "id": "E-LToU4kDWWB",
        "colab_type": "code",
        "colab": {}
      },
      "source": [
        "re_precos = '<span class=\"price__fraction\">(.*)</span>'\n",
        "re_quartos = r'\\| (.*) quarto'\n",
        "re_areas = '> (.*) m² '\n",
        "re_quarto_area_ausente = \"> (.*) quarto\""
      ],
      "execution_count": 2,
      "outputs": []
    },
    {
      "cell_type": "code",
      "metadata": {
        "id": "VPfOCSrx_77r",
        "colab_type": "code",
        "colab": {}
      },
      "source": [
        "zonas = ['norte', 'sul', 'leste', 'oeste']\n",
        "paginas = ['', '_Desde_49', '_Desde_97', '_Desde_145', '_Desde_193', '_Desde_241']\n",
        "dados = {'zona': [],\n",
        "         'quartos': [],\n",
        "         'area': [],\n",
        "         'preco': []}\n",
        "\n",
        "for zona in zonas:\n",
        "  for pagina in paginas:\n",
        "    url = f'https://imoveis.mercadolivre.com.br/apartamentos/aluguel/sao-paulo/sao-paulo-zona-{zona}/{pagina}'\n",
        "\n",
        "    c = requests.get(url).content\n",
        "    soup = BeautifulSoup(c, 'html.parser')\n",
        "\n",
        "    preco = soup.find_all(name='span', attrs={'class': 'price__fraction'})\n",
        "    atributos = soup.find_all(name='div', attrs={'class': 'item__attrs'})\n",
        "\n",
        "    for p in preco:\n",
        "      valor = re.findall(re_precos, str(p))[0]\n",
        "      dados['preco'].append(valor)\n",
        "    \n",
        "    for atributo in atributos:\n",
        "      n_quartos = re.findall(re_quartos, str(atributo))\n",
        "      area = re.findall(re_areas, str(atributo))\n",
        "\n",
        "      if n_quartos == []:\n",
        "        n_quartos = re.findall(re_quarto_area_ausente, str(atributo))\n",
        "        if n_quartos == []:\n",
        "          n_quartos = np.nan\n",
        "        else:\n",
        "          n_quartos = n_quartos[0]\n",
        "      else:\n",
        "        n_quartos = n_quartos[0]\n",
        "      dados['quartos'].append(n_quartos)\n",
        "\n",
        "      if area == []:\n",
        "        area = np.nan\n",
        "      else:\n",
        "        area = area[0]      \n",
        "      dados['area'].append(area)\n",
        "\n",
        "      dados['zona'].append(zona)\n",
        "    sleep(5)"
      ],
      "execution_count": 3,
      "outputs": []
    },
    {
      "cell_type": "code",
      "metadata": {
        "id": "kG2JNTAUCt5R",
        "colab_type": "code",
        "colab": {}
      },
      "source": [
        "# Gerando do DataFrame\n",
        "df = pd.DataFrame(dados)"
      ],
      "execution_count": 4,
      "outputs": []
    },
    {
      "cell_type": "code",
      "metadata": {
        "id": "RAcmB0V6a0rA",
        "colab_type": "code",
        "colab": {
          "base_uri": "https://localhost:8080/",
          "height": 419
        },
        "outputId": "fc84302d-4d04-4f1b-92c7-e5071d8d4b37"
      },
      "source": [
        "# Visualizando o DataFrame\n",
        "df"
      ],
      "execution_count": 5,
      "outputs": [
        {
          "output_type": "execute_result",
          "data": {
            "text/html": [
              "<div>\n",
              "<style scoped>\n",
              "    .dataframe tbody tr th:only-of-type {\n",
              "        vertical-align: middle;\n",
              "    }\n",
              "\n",
              "    .dataframe tbody tr th {\n",
              "        vertical-align: top;\n",
              "    }\n",
              "\n",
              "    .dataframe thead th {\n",
              "        text-align: right;\n",
              "    }\n",
              "</style>\n",
              "<table border=\"1\" class=\"dataframe\">\n",
              "  <thead>\n",
              "    <tr style=\"text-align: right;\">\n",
              "      <th></th>\n",
              "      <th>zona</th>\n",
              "      <th>quartos</th>\n",
              "      <th>area</th>\n",
              "      <th>preco</th>\n",
              "    </tr>\n",
              "  </thead>\n",
              "  <tbody>\n",
              "    <tr>\n",
              "      <th>0</th>\n",
              "      <td>norte</td>\n",
              "      <td>1</td>\n",
              "      <td>40</td>\n",
              "      <td>1.120</td>\n",
              "    </tr>\n",
              "    <tr>\n",
              "      <th>1</th>\n",
              "      <td>norte</td>\n",
              "      <td>2</td>\n",
              "      <td>47</td>\n",
              "      <td>1.414</td>\n",
              "    </tr>\n",
              "    <tr>\n",
              "      <th>2</th>\n",
              "      <td>norte</td>\n",
              "      <td>2</td>\n",
              "      <td>47</td>\n",
              "      <td>1.310</td>\n",
              "    </tr>\n",
              "    <tr>\n",
              "      <th>3</th>\n",
              "      <td>norte</td>\n",
              "      <td>2</td>\n",
              "      <td>51</td>\n",
              "      <td>1.123</td>\n",
              "    </tr>\n",
              "    <tr>\n",
              "      <th>4</th>\n",
              "      <td>norte</td>\n",
              "      <td>3</td>\n",
              "      <td>62</td>\n",
              "      <td>1.480</td>\n",
              "    </tr>\n",
              "    <tr>\n",
              "      <th>...</th>\n",
              "      <td>...</td>\n",
              "      <td>...</td>\n",
              "      <td>...</td>\n",
              "      <td>...</td>\n",
              "    </tr>\n",
              "    <tr>\n",
              "      <th>1147</th>\n",
              "      <td>oeste</td>\n",
              "      <td>1</td>\n",
              "      <td>35</td>\n",
              "      <td>1.850</td>\n",
              "    </tr>\n",
              "    <tr>\n",
              "      <th>1148</th>\n",
              "      <td>oeste</td>\n",
              "      <td>3</td>\n",
              "      <td>110</td>\n",
              "      <td>2.000</td>\n",
              "    </tr>\n",
              "    <tr>\n",
              "      <th>1149</th>\n",
              "      <td>oeste</td>\n",
              "      <td>3</td>\n",
              "      <td>192</td>\n",
              "      <td>7.000</td>\n",
              "    </tr>\n",
              "    <tr>\n",
              "      <th>1150</th>\n",
              "      <td>oeste</td>\n",
              "      <td>3</td>\n",
              "      <td>200</td>\n",
              "      <td>4.620</td>\n",
              "    </tr>\n",
              "    <tr>\n",
              "      <th>1151</th>\n",
              "      <td>oeste</td>\n",
              "      <td>3</td>\n",
              "      <td>200</td>\n",
              "      <td>4.150</td>\n",
              "    </tr>\n",
              "  </tbody>\n",
              "</table>\n",
              "<p>1152 rows × 4 columns</p>\n",
              "</div>"
            ],
            "text/plain": [
              "       zona quartos area  preco\n",
              "0     norte       1   40  1.120\n",
              "1     norte       2   47  1.414\n",
              "2     norte       2   47  1.310\n",
              "3     norte       2   51  1.123\n",
              "4     norte       3   62  1.480\n",
              "...     ...     ...  ...    ...\n",
              "1147  oeste       1   35  1.850\n",
              "1148  oeste       3  110  2.000\n",
              "1149  oeste       3  192  7.000\n",
              "1150  oeste       3  200  4.620\n",
              "1151  oeste       3  200  4.150\n",
              "\n",
              "[1152 rows x 4 columns]"
            ]
          },
          "metadata": {
            "tags": []
          },
          "execution_count": 5
        }
      ]
    },
    {
      "cell_type": "code",
      "metadata": {
        "id": "EErOlCk3jevL",
        "colab_type": "code",
        "colab": {}
      },
      "source": [
        "# Salvando o DataFrame em um arquivo .csv\n",
        "df.to_csv('dados_imoveis.csv')"
      ],
      "execution_count": 6,
      "outputs": []
    }
  ]
}