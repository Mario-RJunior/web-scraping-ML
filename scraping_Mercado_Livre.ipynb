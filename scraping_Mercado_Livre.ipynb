{
  "nbformat": 4,
  "nbformat_minor": 0,
  "metadata": {
    "colab": {
      "name": "scraping-Mercado-Livre.ipynb",
      "provenance": [],
      "collapsed_sections": [],
      "authorship_tag": "ABX9TyO6pWeYTJDsVmjD/GmN+FJ1",
      "include_colab_link": true
    },
    "kernelspec": {
      "name": "python3",
      "display_name": "Python 3"
    }
  },
  "cells": [
    {
      "cell_type": "markdown",
      "metadata": {
        "id": "view-in-github",
        "colab_type": "text"
      },
      "source": [
        "<a href=\"https://colab.research.google.com/github/Mario-RJunior/web-scraping-ML/blob/master/scraping_Mercado_Livre.ipynb\" target=\"_parent\"><img src=\"https://colab.research.google.com/assets/colab-badge.svg\" alt=\"Open In Colab\"/></a>"
      ]
    },
    {
      "cell_type": "code",
      "metadata": {
        "id": "G8AzrBIq8dYL",
        "colab_type": "code",
        "colab": {}
      },
      "source": [
        "# Importando as bibliotecas\n",
        "from bs4 import BeautifulSoup\n",
        "import requests\n",
        "import pandas as pd\n",
        "from time import sleep\n",
        "import re\n",
        "import numpy as np"
      ],
      "execution_count": 1,
      "outputs": []
    },
    {
      "cell_type": "code",
      "metadata": {
        "id": "E-LToU4kDWWB",
        "colab_type": "code",
        "colab": {}
      },
      "source": [
        "re_precos = '<span class=\"price__fraction\">(.*)</span>'\n",
        "re_quartos = r'\\| (.*) quarto'\n",
        "re_areas = '> (.*) m² '\n",
        "re_quarto_area_ausente = \"> (.*) quarto\""
      ],
      "execution_count": 2,
      "outputs": []
    },
    {
      "cell_type": "code",
      "metadata": {
        "id": "VPfOCSrx_77r",
        "colab_type": "code",
        "colab": {}
      },
      "source": [
        "zonas = ['norte', 'sul', 'leste', 'oeste']\n",
        "paginas = ['', '_Desde_49', '_Desde_97', '_Desde_145', '_Desde_193', \n",
        "           '_Desde_241', '_Desde_289']\n",
        "dados = {'zona': [],\n",
        "         'quartos': [],\n",
        "         'area': [],\n",
        "         'preco': []}\n",
        "\n",
        "for zona in zonas:\n",
        "  for pagina in paginas:\n",
        "    url = f'https://imoveis.mercadolivre.com.br/apartamentos/aluguel/sao-paulo/sao-paulo-zona-{zona}/{pagina}'\n",
        "\n",
        "    c = requests.get(url).content\n",
        "    soup = BeautifulSoup(c, 'html.parser')\n",
        "\n",
        "    preco = soup.find_all(name='span', attrs={'class': 'price__fraction'})\n",
        "    atributos = soup.find_all(name='div', attrs={'class': 'item__attrs'})\n",
        "\n",
        "    for p in preco:\n",
        "      valor = re.findall(re_precos, str(p))[0]\n",
        "      dados['preco'].append(valor)\n",
        "    \n",
        "    for atributo in atributos:\n",
        "      n_quartos = re.findall(re_quartos, str(atributo))\n",
        "      area = re.findall(re_areas, str(atributo))\n",
        "\n",
        "      if n_quartos == []:\n",
        "        n_quartos = re.findall(re_quarto_area_ausente, str(atributo))\n",
        "        if n_quartos == []:\n",
        "          n_quartos = np.nan\n",
        "        else:\n",
        "          n_quartos = n_quartos[0]\n",
        "      else:\n",
        "        n_quartos = n_quartos[0]\n",
        "      dados['quartos'].append(n_quartos)\n",
        "\n",
        "      if area == []:\n",
        "        area = np.nan\n",
        "      else:\n",
        "        area = area[0]      \n",
        "      dados['area'].append(area)\n",
        "\n",
        "      dados['zona'].append(zona)\n",
        "    sleep(5)"
      ],
      "execution_count": 3,
      "outputs": []
    },
    {
      "cell_type": "code",
      "metadata": {
        "id": "kG2JNTAUCt5R",
        "colab_type": "code",
        "colab": {}
      },
      "source": [
        "# Gerando do DataFrame\n",
        "df = pd.DataFrame(dados)"
      ],
      "execution_count": 4,
      "outputs": []
    },
    {
      "cell_type": "code",
      "metadata": {
        "id": "RAcmB0V6a0rA",
        "colab_type": "code",
        "colab": {
          "base_uri": "https://localhost:8080/",
          "height": 419
        },
        "outputId": "584481ed-9c0f-472c-d934-8b6996fe4bcb"
      },
      "source": [
        "# Visualizando o DataFrame\n",
        "df"
      ],
      "execution_count": 5,
      "outputs": [
        {
          "output_type": "execute_result",
          "data": {
            "text/html": [
              "<div>\n",
              "<style scoped>\n",
              "    .dataframe tbody tr th:only-of-type {\n",
              "        vertical-align: middle;\n",
              "    }\n",
              "\n",
              "    .dataframe tbody tr th {\n",
              "        vertical-align: top;\n",
              "    }\n",
              "\n",
              "    .dataframe thead th {\n",
              "        text-align: right;\n",
              "    }\n",
              "</style>\n",
              "<table border=\"1\" class=\"dataframe\">\n",
              "  <thead>\n",
              "    <tr style=\"text-align: right;\">\n",
              "      <th></th>\n",
              "      <th>zona</th>\n",
              "      <th>quartos</th>\n",
              "      <th>area</th>\n",
              "      <th>preco</th>\n",
              "    </tr>\n",
              "  </thead>\n",
              "  <tbody>\n",
              "    <tr>\n",
              "      <th>0</th>\n",
              "      <td>norte</td>\n",
              "      <td>2</td>\n",
              "      <td>65</td>\n",
              "      <td>2.500</td>\n",
              "    </tr>\n",
              "    <tr>\n",
              "      <th>1</th>\n",
              "      <td>norte</td>\n",
              "      <td>3</td>\n",
              "      <td>65</td>\n",
              "      <td>1.500</td>\n",
              "    </tr>\n",
              "    <tr>\n",
              "      <th>2</th>\n",
              "      <td>norte</td>\n",
              "      <td>2</td>\n",
              "      <td>50</td>\n",
              "      <td>1.550</td>\n",
              "    </tr>\n",
              "    <tr>\n",
              "      <th>3</th>\n",
              "      <td>norte</td>\n",
              "      <td>2</td>\n",
              "      <td>35</td>\n",
              "      <td>1.100</td>\n",
              "    </tr>\n",
              "    <tr>\n",
              "      <th>4</th>\n",
              "      <td>norte</td>\n",
              "      <td>1</td>\n",
              "      <td>59</td>\n",
              "      <td>1.250</td>\n",
              "    </tr>\n",
              "    <tr>\n",
              "      <th>...</th>\n",
              "      <td>...</td>\n",
              "      <td>...</td>\n",
              "      <td>...</td>\n",
              "      <td>...</td>\n",
              "    </tr>\n",
              "    <tr>\n",
              "      <th>1051</th>\n",
              "      <td>oeste</td>\n",
              "      <td>3</td>\n",
              "      <td>900</td>\n",
              "      <td>15.000</td>\n",
              "    </tr>\n",
              "    <tr>\n",
              "      <th>1052</th>\n",
              "      <td>oeste</td>\n",
              "      <td>3</td>\n",
              "      <td>170</td>\n",
              "      <td>5.000</td>\n",
              "    </tr>\n",
              "    <tr>\n",
              "      <th>1053</th>\n",
              "      <td>oeste</td>\n",
              "      <td>2</td>\n",
              "      <td>73</td>\n",
              "      <td>5.000</td>\n",
              "    </tr>\n",
              "    <tr>\n",
              "      <th>1054</th>\n",
              "      <td>oeste</td>\n",
              "      <td>2</td>\n",
              "      <td>98</td>\n",
              "      <td>4.160</td>\n",
              "    </tr>\n",
              "    <tr>\n",
              "      <th>1055</th>\n",
              "      <td>oeste</td>\n",
              "      <td>2</td>\n",
              "      <td>84</td>\n",
              "      <td>6.800</td>\n",
              "    </tr>\n",
              "  </tbody>\n",
              "</table>\n",
              "<p>1056 rows × 4 columns</p>\n",
              "</div>"
            ],
            "text/plain": [
              "       zona quartos area   preco\n",
              "0     norte       2   65   2.500\n",
              "1     norte       3   65   1.500\n",
              "2     norte       2   50   1.550\n",
              "3     norte       2   35   1.100\n",
              "4     norte       1   59   1.250\n",
              "...     ...     ...  ...     ...\n",
              "1051  oeste       3  900  15.000\n",
              "1052  oeste       3  170   5.000\n",
              "1053  oeste       2   73   5.000\n",
              "1054  oeste       2   98   4.160\n",
              "1055  oeste       2   84   6.800\n",
              "\n",
              "[1056 rows x 4 columns]"
            ]
          },
          "metadata": {
            "tags": []
          },
          "execution_count": 5
        }
      ]
    },
    {
      "cell_type": "markdown",
      "metadata": {
        "id": "YPeRn3fRLuwb",
        "colab_type": "text"
      },
      "source": [
        "***Importante***:\n",
        "\n",
        "Note na coluna \"preco\" que os dados da escala de milhar apresentam pontos, o que representa um problema uma vez que o Python irá interpretar esses valores como sendo um float. Por exemplo, um aluguel igual a 6 mil reais será considerado como 6 reais fazendo com que nossa escala fique completamente distorcida, gerando problemas que posteriormente irão afetar os algorítmos. Devemos então tratar tais valores."
      ]
    },
    {
      "cell_type": "code",
      "metadata": {
        "id": "48TH0Na2Ltvx",
        "colab_type": "code",
        "colab": {}
      },
      "source": [
        "# Alterando os dados da coluna preco para remover os pontos\n",
        "df['preco'] = df['preco'].map(lambda x: x.replace('.', ''))"
      ],
      "execution_count": 6,
      "outputs": []
    },
    {
      "cell_type": "code",
      "metadata": {
        "id": "yshcdB7hNARl",
        "colab_type": "code",
        "colab": {
          "base_uri": "https://localhost:8080/",
          "height": 359
        },
        "outputId": "d509b952-f0cd-49a9-cc94-33e1790440b6"
      },
      "source": [
        "df.head(10)"
      ],
      "execution_count": 7,
      "outputs": [
        {
          "output_type": "execute_result",
          "data": {
            "text/html": [
              "<div>\n",
              "<style scoped>\n",
              "    .dataframe tbody tr th:only-of-type {\n",
              "        vertical-align: middle;\n",
              "    }\n",
              "\n",
              "    .dataframe tbody tr th {\n",
              "        vertical-align: top;\n",
              "    }\n",
              "\n",
              "    .dataframe thead th {\n",
              "        text-align: right;\n",
              "    }\n",
              "</style>\n",
              "<table border=\"1\" class=\"dataframe\">\n",
              "  <thead>\n",
              "    <tr style=\"text-align: right;\">\n",
              "      <th></th>\n",
              "      <th>zona</th>\n",
              "      <th>quartos</th>\n",
              "      <th>area</th>\n",
              "      <th>preco</th>\n",
              "    </tr>\n",
              "  </thead>\n",
              "  <tbody>\n",
              "    <tr>\n",
              "      <th>0</th>\n",
              "      <td>norte</td>\n",
              "      <td>2</td>\n",
              "      <td>65</td>\n",
              "      <td>2500</td>\n",
              "    </tr>\n",
              "    <tr>\n",
              "      <th>1</th>\n",
              "      <td>norte</td>\n",
              "      <td>3</td>\n",
              "      <td>65</td>\n",
              "      <td>1500</td>\n",
              "    </tr>\n",
              "    <tr>\n",
              "      <th>2</th>\n",
              "      <td>norte</td>\n",
              "      <td>2</td>\n",
              "      <td>50</td>\n",
              "      <td>1550</td>\n",
              "    </tr>\n",
              "    <tr>\n",
              "      <th>3</th>\n",
              "      <td>norte</td>\n",
              "      <td>2</td>\n",
              "      <td>35</td>\n",
              "      <td>1100</td>\n",
              "    </tr>\n",
              "    <tr>\n",
              "      <th>4</th>\n",
              "      <td>norte</td>\n",
              "      <td>1</td>\n",
              "      <td>59</td>\n",
              "      <td>1250</td>\n",
              "    </tr>\n",
              "    <tr>\n",
              "      <th>5</th>\n",
              "      <td>norte</td>\n",
              "      <td>2</td>\n",
              "      <td>50</td>\n",
              "      <td>1200</td>\n",
              "    </tr>\n",
              "    <tr>\n",
              "      <th>6</th>\n",
              "      <td>norte</td>\n",
              "      <td>1</td>\n",
              "      <td>29</td>\n",
              "      <td>1099</td>\n",
              "    </tr>\n",
              "    <tr>\n",
              "      <th>7</th>\n",
              "      <td>norte</td>\n",
              "      <td>1</td>\n",
              "      <td>30</td>\n",
              "      <td>900</td>\n",
              "    </tr>\n",
              "    <tr>\n",
              "      <th>8</th>\n",
              "      <td>norte</td>\n",
              "      <td>1</td>\n",
              "      <td>30</td>\n",
              "      <td>900</td>\n",
              "    </tr>\n",
              "    <tr>\n",
              "      <th>9</th>\n",
              "      <td>norte</td>\n",
              "      <td>1</td>\n",
              "      <td>30</td>\n",
              "      <td>1250</td>\n",
              "    </tr>\n",
              "  </tbody>\n",
              "</table>\n",
              "</div>"
            ],
            "text/plain": [
              "    zona quartos area preco\n",
              "0  norte       2   65  2500\n",
              "1  norte       3   65  1500\n",
              "2  norte       2   50  1550\n",
              "3  norte       2   35  1100\n",
              "4  norte       1   59  1250\n",
              "5  norte       2   50  1200\n",
              "6  norte       1   29  1099\n",
              "7  norte       1   30   900\n",
              "8  norte       1   30   900\n",
              "9  norte       1   30  1250"
            ]
          },
          "metadata": {
            "tags": []
          },
          "execution_count": 7
        }
      ]
    },
    {
      "cell_type": "code",
      "metadata": {
        "id": "EErOlCk3jevL",
        "colab_type": "code",
        "colab": {}
      },
      "source": [
        "# Salvando o DataFrame em um arquivo .csv\n",
        "df.to_csv('dados_imoveis.csv')"
      ],
      "execution_count": 8,
      "outputs": []
    }
  ]
}