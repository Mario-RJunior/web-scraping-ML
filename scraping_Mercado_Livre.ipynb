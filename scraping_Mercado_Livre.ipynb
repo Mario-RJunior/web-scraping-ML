{
  "nbformat": 4,
  "nbformat_minor": 0,
  "metadata": {
    "colab": {
      "name": "scraping-Mercado-Livre.ipynb",
      "provenance": [],
      "collapsed_sections": [],
      "authorship_tag": "ABX9TyOAxb1292zGOaKVaRhSQiuI",
      "include_colab_link": true
    },
    "kernelspec": {
      "name": "python3",
      "display_name": "Python 3"
    }
  },
  "cells": [
    {
      "cell_type": "markdown",
      "metadata": {
        "id": "view-in-github",
        "colab_type": "text"
      },
      "source": [
        "<a href=\"https://colab.research.google.com/github/Mario-RJunior/web-scraping-ML/blob/master/scraping_Mercado_Livre.ipynb\" target=\"_parent\"><img src=\"https://colab.research.google.com/assets/colab-badge.svg\" alt=\"Open In Colab\"/></a>"
      ]
    },
    {
      "cell_type": "code",
      "metadata": {
        "id": "G8AzrBIq8dYL",
        "colab_type": "code",
        "colab": {}
      },
      "source": [
        "# Importando as bibliotecas\n",
        "from bs4 import BeautifulSoup\n",
        "import requests\n",
        "import pandas as pd\n",
        "from time import sleep\n",
        "import re\n",
        "import numpy as np"
      ],
      "execution_count": 1,
      "outputs": []
    },
    {
      "cell_type": "code",
      "metadata": {
        "id": "E-LToU4kDWWB",
        "colab_type": "code",
        "colab": {}
      },
      "source": [
        "re_precos = '<span class=\"price__fraction\">(.*)</span>'\n",
        "re_quartos = r'\\| (.*) quarto'\n",
        "re_areas = '> (.*) m² '"
      ],
      "execution_count": 2,
      "outputs": []
    },
    {
      "cell_type": "code",
      "metadata": {
        "id": "VPfOCSrx_77r",
        "colab_type": "code",
        "colab": {}
      },
      "source": [
        "zonas = ['norte', 'sul', 'leste', 'oeste']\n",
        "dados = {'zona': [],\n",
        "         'quartos': [],\n",
        "         'area': [],\n",
        "         'preco': []}\n",
        "\n",
        "for zona in zonas:\n",
        "  url = f'https://imoveis.mercadolivre.com.br/casas/aluguel/sao-paulo/sao-paulo-zona-{zona}/#origin=search&as_word=true'\n",
        "\n",
        "  c = requests.get(url).content\n",
        "  soup = BeautifulSoup(c, 'html.parser')\n",
        "\n",
        "  preco = soup.find_all(name='span', attrs={'class': 'price__fraction'})\n",
        "  atributos = soup.find_all(name='div', attrs={'class': 'item__attrs'})\n",
        "\n",
        "  for p in preco:\n",
        "    valor = re.findall(re_precos, str(p))[0]\n",
        "    dados['preco'].append(valor)\n",
        "  \n",
        "  for atributo in atributos:\n",
        "    n_quartos = re.findall(re_quartos, str(atributo))\n",
        "    area = re.findall(re_areas, str(atributo))\n",
        "\n",
        "    if n_quartos == []:\n",
        "      n_quartos = np.nan\n",
        "    else:\n",
        "      n_quartos = n_quartos[0]\n",
        "    dados['quartos'].append(n_quartos)\n",
        "\n",
        "    if area == []:\n",
        "      area = np.nan\n",
        "    else:\n",
        "      area = area[0]      \n",
        "    dados['area'].append(area)\n",
        "\n",
        "    dados['zona'].append(zona) "
      ],
      "execution_count": 3,
      "outputs": []
    },
    {
      "cell_type": "code",
      "metadata": {
        "id": "kG2JNTAUCt5R",
        "colab_type": "code",
        "colab": {}
      },
      "source": [
        "df = pd.DataFrame(dados)"
      ],
      "execution_count": 4,
      "outputs": []
    },
    {
      "cell_type": "code",
      "metadata": {
        "id": "RAcmB0V6a0rA",
        "colab_type": "code",
        "colab": {
          "base_uri": "https://localhost:8080/",
          "height": 407
        },
        "outputId": "5aebc3ce-d713-4a2a-b7b4-c5d172837a5a"
      },
      "source": [
        "df"
      ],
      "execution_count": 5,
      "outputs": [
        {
          "output_type": "execute_result",
          "data": {
            "text/html": [
              "<div>\n",
              "<style scoped>\n",
              "    .dataframe tbody tr th:only-of-type {\n",
              "        vertical-align: middle;\n",
              "    }\n",
              "\n",
              "    .dataframe tbody tr th {\n",
              "        vertical-align: top;\n",
              "    }\n",
              "\n",
              "    .dataframe thead th {\n",
              "        text-align: right;\n",
              "    }\n",
              "</style>\n",
              "<table border=\"1\" class=\"dataframe\">\n",
              "  <thead>\n",
              "    <tr style=\"text-align: right;\">\n",
              "      <th></th>\n",
              "      <th>zona</th>\n",
              "      <th>quartos</th>\n",
              "      <th>area</th>\n",
              "      <th>preco</th>\n",
              "    </tr>\n",
              "  </thead>\n",
              "  <tbody>\n",
              "    <tr>\n",
              "      <th>0</th>\n",
              "      <td>norte</td>\n",
              "      <td>1</td>\n",
              "      <td>70</td>\n",
              "      <td>600</td>\n",
              "    </tr>\n",
              "    <tr>\n",
              "      <th>1</th>\n",
              "      <td>norte</td>\n",
              "      <td>2</td>\n",
              "      <td>70</td>\n",
              "      <td>850</td>\n",
              "    </tr>\n",
              "    <tr>\n",
              "      <th>2</th>\n",
              "      <td>norte</td>\n",
              "      <td>1</td>\n",
              "      <td>40</td>\n",
              "      <td>850</td>\n",
              "    </tr>\n",
              "    <tr>\n",
              "      <th>3</th>\n",
              "      <td>norte</td>\n",
              "      <td>1</td>\n",
              "      <td>50</td>\n",
              "      <td>950</td>\n",
              "    </tr>\n",
              "    <tr>\n",
              "      <th>4</th>\n",
              "      <td>norte</td>\n",
              "      <td>5</td>\n",
              "      <td>150</td>\n",
              "      <td>2.000</td>\n",
              "    </tr>\n",
              "    <tr>\n",
              "      <th>...</th>\n",
              "      <td>...</td>\n",
              "      <td>...</td>\n",
              "      <td>...</td>\n",
              "      <td>...</td>\n",
              "    </tr>\n",
              "    <tr>\n",
              "      <th>187</th>\n",
              "      <td>oeste</td>\n",
              "      <td>1</td>\n",
              "      <td>45</td>\n",
              "      <td>850</td>\n",
              "    </tr>\n",
              "    <tr>\n",
              "      <th>188</th>\n",
              "      <td>oeste</td>\n",
              "      <td>4</td>\n",
              "      <td>500</td>\n",
              "      <td>6.000</td>\n",
              "    </tr>\n",
              "    <tr>\n",
              "      <th>189</th>\n",
              "      <td>oeste</td>\n",
              "      <td>NaN</td>\n",
              "      <td>25</td>\n",
              "      <td>380</td>\n",
              "    </tr>\n",
              "    <tr>\n",
              "      <th>190</th>\n",
              "      <td>oeste</td>\n",
              "      <td>3</td>\n",
              "      <td>55</td>\n",
              "      <td>1.406</td>\n",
              "    </tr>\n",
              "    <tr>\n",
              "      <th>191</th>\n",
              "      <td>oeste</td>\n",
              "      <td>2</td>\n",
              "      <td>101</td>\n",
              "      <td>1.750</td>\n",
              "    </tr>\n",
              "  </tbody>\n",
              "</table>\n",
              "<p>192 rows × 4 columns</p>\n",
              "</div>"
            ],
            "text/plain": [
              "      zona quartos area  preco\n",
              "0    norte       1   70    600\n",
              "1    norte       2   70    850\n",
              "2    norte       1   40    850\n",
              "3    norte       1   50    950\n",
              "4    norte       5  150  2.000\n",
              "..     ...     ...  ...    ...\n",
              "187  oeste       1   45    850\n",
              "188  oeste       4  500  6.000\n",
              "189  oeste     NaN   25    380\n",
              "190  oeste       3   55  1.406\n",
              "191  oeste       2  101  1.750\n",
              "\n",
              "[192 rows x 4 columns]"
            ]
          },
          "metadata": {
            "tags": []
          },
          "execution_count": 5
        }
      ]
    }
  ]
}